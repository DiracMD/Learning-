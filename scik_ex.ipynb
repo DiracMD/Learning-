{
 "cells": [
  {
   "cell_type": "code",
   "execution_count": 1,
   "metadata": {},
   "outputs": [],
   "source": [
    "import numpy as np\n",
    "import pandas as pd\n",
    "import matplotlib.pyplot as plt\n",
    "from rdkit import Chem\n",
    "from rdkit.Chem.rdMolDescriptors import GetMorganFingerprintAsBitVect\n",
    "\n",
    "from sklearn.model_selection import train_test_split\n",
    "from sklearn.ensemble import RandomForestRegressor"
   ]
  },
  {
   "cell_type": "code",
   "execution_count": 6,
   "metadata": {},
   "outputs": [
    {
     "name": "stdout",
     "output_type": "stream",
     "text": [
      "560 140 367\n",
      "                                                SMILES  target_cns\n",
      "0    CC(CCC(=O)O)C1CCC2C3C(CC(=O)C12C)C4(C)CCC(=O)C...           0\n",
      "1         CC(=O)c1ccc2c(c1)Sc3ccccc3N2CCCN4CCN(CC4)CCO           0\n",
      "2    CCCN(CCC)C(=O)C(CCC(=O)OCCCN1CCN(CCOC(=O)Cc2c(...           0\n",
      "3    CC(C)CCCC(C)CCCC(C)CCCC1(C)CCc2c(C)c(O)c(C)c(C...           0\n",
      "4                         CCCN(CCC)CCc1cccc2c1CC(=O)N2           0\n",
      "..                                                 ...         ...\n",
      "362  CC(C)(C)C(=O)OCOP(=O)(COCCn1cnc2c(N)ncnc12)OCO...           0\n",
      "363  COC1=CC=C2C(=CC1=O)C(CCc3cc(OC)c(OC)c(OC)c23)N...           0\n",
      "364                CC(CN1c2ccccc2Sc3c1cc(cc3)OC)CN(C)C           0\n",
      "365  [H][C@]12SCC(C)=C(N1C(=O)[C@H]2NC(=O)[C@H](N)C...           0\n",
      "366                    Cc1onc(NS(=O)(=O)c2ccc(N)cc2)c1           0\n",
      "\n",
      "[367 rows x 2 columns]\n"
     ]
    }
   ],
   "source": [
    "df_data = pd.read_csv('./mol_train.csv')\n",
    "df_train, df_val = train_test_split(df_data, test_size=0.2, random_state=42)\n",
    "df_test = pd.read_csv('./mol_test.csv')\n",
    "print(len(df_train),len(df_val),len(df_test))\n",
    "print(df_test)"
   ]
  },
  {
   "cell_type": "code",
   "execution_count": 10,
   "metadata": {},
   "outputs": [
    {
     "name": "stdout",
     "output_type": "stream",
     "text": [
      "(560, 1024) (140, 1024)\n"
     ]
    }
   ],
   "source": [
    "X_fp_train = np.array([GetMorganFingerprintAsBitVect(Chem.MolFromSmiles(x), 2, nBits=1024) for x in df_train['SMILES']])\n",
    "X_fp_val = np.array([GetMorganFingerprintAsBitVect(Chem.MolFromSmiles(x), 2, nBits=1024) for x in df_val['SMILES']])\n",
    "X_fp = np.concatenate((X_fp_train, X_fp_val), axis=0)\n",
    "print(X_fp_train.shape, X_fp_val.shape)"
   ]
  },
  {
   "cell_type": "code",
   "execution_count": 11,
   "metadata": {},
   "outputs": [
    {
     "data": {
      "text/plain": [
       "0.9609919084821429"
      ]
     },
     "execution_count": 11,
     "metadata": {},
     "output_type": "execute_result"
    }
   ],
   "source": [
    "(X_fp == 0).mean()"
   ]
  },
  {
   "cell_type": "code",
   "execution_count": 14,
   "metadata": {},
   "outputs": [
    {
     "name": "stdout",
     "output_type": "stream",
     "text": [
      "[0.06290328 0.99665251 0.10835096 0.93038157 0.11702461 0.16196984\n",
      " 0.94965432 0.06153611 0.85678072 0.69818447 0.07040305 0.29462783\n",
      " 0.12527821 0.89170594 0.22588741 0.73       0.64344218 0.09050956\n",
      " 0.07830873 0.0739066  0.18899242 0.20388454 0.080295   0.0975402\n",
      " 0.08075076 0.10988778 0.26692391 0.11234487 0.37283398 0.31674992\n",
      " 0.93699174 0.09980694 0.08084851 0.06328632 0.22988489 0.84779621\n",
      " 0.1176768  0.14489258 0.06282411 0.12415469 0.11047901 0.12070345\n",
      " 0.12961555 0.11333502 0.10239737 0.25213906 0.17072109 0.89369288\n",
      " 0.07789537 0.97665251 0.95590625 0.60743473 0.3913016  0.93601641\n",
      " 0.98351106 0.36936936 0.20671792 0.5224796  0.45899284 0.77963975\n",
      " 0.26833025 0.18888406 0.20687319 0.18472102 0.06333795 0.11238515\n",
      " 0.9772862  0.34878604 0.23366678 0.20974002 0.74824166 0.81887124\n",
      " 0.12505971 0.07515587 0.13873146 0.92345374 0.99665251 0.09247534\n",
      " 0.16711265 0.14894792 0.07553401 0.89264837 0.19062051 0.41525619\n",
      " 0.1008509  0.13752176 0.97665251 0.80616271 0.29292753 0.1686094\n",
      " 0.11234487 0.0611615  0.32480042 0.88382685 0.14832492 0.12060413\n",
      " 0.93746299 0.1621616  0.99715244 0.14213491 0.76857743 0.88785395\n",
      " 0.53363122 0.07433709 0.10321418 0.07763604 0.35599115 0.10168585\n",
      " 0.49455214 0.34213373 0.59401034 0.13525341 0.13619969 0.16800395\n",
      " 0.1883666  0.11723226 0.1025164  0.1997037  0.06214913 0.95997285\n",
      " 0.97010111 0.20343908 0.67390819 0.17607119 0.12883652 0.99665251\n",
      " 0.13533481 0.88099474 0.12153923 0.14930213 0.06214913 0.91671673\n",
      " 0.08980878 0.53268663 0.08125799 0.06292776 0.06328632 0.85600934\n",
      " 0.64569125 0.2497938 ]\n"
     ]
    }
   ],
   "source": [
    "ridge = RandomForestRegressor(n_estimators=100, max_depth=10, random_state=1).fit(X_fp_train, df_train['target_cns'])\n",
    "y_pred = ridge.predict(X_fp_val)\n",
    "print(X_fp,y_pred)\n"
   ]
  }
 ],
 "metadata": {
  "kernelspec": {
   "display_name": "Python 3.8.13 ('py38')",
   "language": "python",
   "name": "python3"
  },
  "language_info": {
   "codemirror_mode": {
    "name": "ipython",
    "version": 3
   },
   "file_extension": ".py",
   "mimetype": "text/x-python",
   "name": "python",
   "nbconvert_exporter": "python",
   "pygments_lexer": "ipython3",
   "version": "3.8.13"
  },
  "orig_nbformat": 4,
  "vscode": {
   "interpreter": {
    "hash": "dd9bbf8b8e0301bed0fdf61439a01aecf057e43e2309f92c55bf9af5785ef970"
   }
  }
 },
 "nbformat": 4,
 "nbformat_minor": 2
}
