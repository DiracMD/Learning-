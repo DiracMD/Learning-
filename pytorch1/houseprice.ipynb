{
 "cells": [
  {
   "cell_type": "code",
   "execution_count": null,
   "metadata": {},
   "outputs": [],
   "source": []
  }
 ],
 "metadata": {
  "kernelspec": {
   "display_name": "Python 3.9.7 ('base')",
   "language": "python",
   "name": "python3"
  },
  "language_info": {
   "name": "python",
   "version": "3.9.7"
  },
  "orig_nbformat": 4,
  "vscode": {
   "interpreter": {
    "hash": "afa4f2e5e763a39e5eb9c737ecb95c5bbddc2ee3b9e150415ead9e4cf50289f8"
   }
  }
 },
 "nbformat": 4,
 "nbformat_minor": 2
}
