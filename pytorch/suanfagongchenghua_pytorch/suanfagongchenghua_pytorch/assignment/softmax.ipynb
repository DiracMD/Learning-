{
 "cells": [
  {
   "cell_type": "markdown",
   "id": "1c4737bd-07e9-4ef0-b62c-ed2523d77e53",
   "metadata": {},
   "source": [
    "## 3.7 softmax回归的简洁实现"
   ]
  },
  {
   "cell_type": "code",
   "execution_count": 1,
   "id": "7d564be9-4e04-4951-87cc-8794514097a5",
   "metadata": {},
   "outputs": [
    {
     "name": "stdout",
     "output_type": "stream",
     "text": [
      "1.12.1+cpu\n"
     ]
    }
   ],
   "source": [
    "import torch\n",
    "from torch import nn\n",
    "from torch.nn import init\n",
    "import numpy as np\n",
    "import sys\n",
    "sys.path.append(\"..\") \n",
    "import d2lzh_pytorch as d2l\n",
    "\n",
    "print(torch.__version__)"
   ]
  },
  {
   "cell_type": "markdown",
   "id": "f8f37e06-05c8-4282-92d3-5fed506610ca",
   "metadata": {},
   "source": [
    "## 3.7.1 获取和读取数据"
   ]
  },
  {
   "cell_type": "code",
   "execution_count": 2,
   "id": "83847500-394c-4f5a-b604-177acd72d3fb",
   "metadata": {},
   "outputs": [],
   "source": [
    "batch_size = 256\n",
    "train_iter, test_iter = d2l.load_data_fashion_mnist(batch_size)"
   ]
  },
  {
   "cell_type": "markdown",
   "id": "b9519c6e-95f3-4291-b68e-34b40ffcd3f7",
   "metadata": {},
   "source": [
    "## 3.7.2 定义和初始化模型"
   ]
  },
  {
   "cell_type": "code",
   "execution_count": 3,
   "id": "bc55d860-5e26-48a6-8af7-9d97440ee860",
   "metadata": {},
   "outputs": [],
   "source": [
    "num_inputs = 784\n",
    "num_outputs = 10\n",
    "\n",
    "class LinearNet(nn.Module):\n",
    "    def __init__(self, num_inputs, num_outputs):\n",
    "        super(LinearNet, self).__init__()\n",
    "        self.linear = nn.Linear(num_inputs, num_outputs)\n",
    "    def forward(self, x): # x shape: (batch, 1, 28, 28)\n",
    "        y = self.linear(x.view(x.shape[0], -1))\n",
    "        return y\n",
    "\n",
    "net = LinearNet(num_inputs, num_outputs)"
   ]
  },
  {
   "cell_type": "code",
   "execution_count": 4,
   "id": "630f7466-9573-4231-b5a2-6273ca1db3b0",
   "metadata": {},
   "outputs": [],
   "source": [
    "class FlattenLayer(nn.Module):\n",
    "    def __init__(self):\n",
    "        super(FlattenLayer, self).__init__()\n",
    "    def forward(self, x): # x shape: (batch, *, *, ...)\n",
    "        return x.view(x.shape[0], -1)"
   ]
  },
  {
   "cell_type": "code",
   "execution_count": 5,
   "id": "ad6b13a5-630e-4b4d-90fa-f3dd3a85a42a",
   "metadata": {},
   "outputs": [],
   "source": [
    "from collections import OrderedDict\n",
    "\n",
    "net = nn.Sequential(\n",
    "    # FlattenLayer(),\n",
    "    # nn.Linear(num_inputs, num_outputs)\n",
    "    OrderedDict([\n",
    "        ('flatten', FlattenLayer()),\n",
    "        ('linear', nn.Linear(num_inputs, num_outputs)),\n",
    "    ])\n",
    ")"
   ]
  },
  {
   "cell_type": "code",
   "execution_count": 6,
   "id": "da8db26e-5ad5-4a26-bb7b-1ff6a7228c82",
   "metadata": {},
   "outputs": [
    {
     "data": {
      "text/plain": [
       "Parameter containing:\n",
       "tensor([0., 0., 0., 0., 0., 0., 0., 0., 0., 0.], requires_grad=True)"
      ]
     },
     "execution_count": 6,
     "metadata": {},
     "output_type": "execute_result"
    }
   ],
   "source": [
    "init.normal_(net.linear.weight, mean=0, std=0.01)\n",
    "init.constant_(net.linear.bias, val=0) "
   ]
  },
  {
   "cell_type": "code",
   "execution_count": 7,
   "id": "a58f6970-a4e7-4c55-add9-fb694f8108da",
   "metadata": {},
   "outputs": [],
   "source": [
    "loss = nn.CrossEntropyLoss()"
   ]
  },
  {
   "cell_type": "code",
   "execution_count": 8,
   "id": "be3cb844-2b4b-47e8-a662-4666373db064",
   "metadata": {},
   "outputs": [],
   "source": [
    "optimizer = torch.optim.SGD(net.parameters(), lr=0.1)"
   ]
  },
  {
   "cell_type": "code",
   "execution_count": 9,
   "id": "646628b5-c36d-4a7c-adbc-d3e09e709f53",
   "metadata": {},
   "outputs": [
    {
     "name": "stdout",
     "output_type": "stream",
     "text": [
      "epoch 1, loss 0.0031, train acc 0.747, test acc 0.783\n",
      "epoch 2, loss 0.0022, train acc 0.813, test acc 0.812\n",
      "epoch 3, loss 0.0021, train acc 0.825, test acc 0.818\n",
      "epoch 4, loss 0.0020, train acc 0.832, test acc 0.823\n",
      "epoch 5, loss 0.0019, train acc 0.837, test acc 0.822\n"
     ]
    }
   ],
   "source": [
    "num_epochs = 5\n",
    "d2l.train_ch3(net, train_iter, test_iter, loss, num_epochs, batch_size, None, None, optimizer)"
   ]
  },
  {
   "cell_type": "code",
   "execution_count": null,
   "id": "9cb05470-84fd-48d0-b40f-3c4a46377a90",
   "metadata": {},
   "outputs": [],
   "source": []
  },
  {
   "cell_type": "markdown",
   "id": "9a3150d2-909d-427e-b957-fab45bcdcfec",
   "metadata": {},
   "source": [
    "## 问题\n",
    "1. 更换三个不同大小的学习率,观察学习率对于模型训练的影响\n",
    "2. 更换三个不同大小的batch_size，观察batch_size对于模型训练的影响\n",
    "3. 将模型替换为下方卷积神经网络，观察模型训练效果:"
   ]
  },
  {
   "cell_type": "code",
   "execution_count": 10,
   "id": "7c16ba87-f269-4503-9853-385aa9aac4db",
   "metadata": {},
   "outputs": [],
   "source": [
    "class ConvNet(nn.Module):\n",
    "    def __init__(self, num_inputs, num_outputs):\n",
    "        super(ConvNet, self).__init__()\n",
    "        self.conv2d_blocks = nn.Sequential(\n",
    "            nn.Conv2d(in_channels=1, out_channels=5, kernel_size=3, stride=1, padding='same'),\n",
    "            nn.ReLU(inplace=True),\n",
    "            nn.Conv2d(in_channels=5, out_channels=10, kernel_size=3, stride=1, padding='same')\n",
    "        )\n",
    "        self.linear = nn.Linear(num_inputs*10, num_outputs)\n",
    "    def forward(self, x): # x shape: (batch, 1, 28, 28)\n",
    "        x = self.conv2d_blocks(x)\n",
    "        y = self.linear(x.view(x.shape[0], -1))\n",
    "        return y"
   ]
  },
  {
   "cell_type": "code",
   "execution_count": null,
   "id": "f22beb92-ae22-4a7b-812f-6acaaac51ea4",
   "metadata": {},
   "outputs": [],
   "source": []
  }
 ],
 "metadata": {
  "kernelspec": {
   "display_name": "Python 3.9.7 ('base')",
   "language": "python",
   "name": "python3"
  },
  "language_info": {
   "codemirror_mode": {
    "name": "ipython",
    "version": 3
   },
   "file_extension": ".py",
   "mimetype": "text/x-python",
   "name": "python",
   "nbconvert_exporter": "python",
   "pygments_lexer": "ipython3",
   "version": "3.9.7"
  },
  "vscode": {
   "interpreter": {
    "hash": "afa4f2e5e763a39e5eb9c737ecb95c5bbddc2ee3b9e150415ead9e4cf50289f8"
   }
  }
 },
 "nbformat": 4,
 "nbformat_minor": 5
}
